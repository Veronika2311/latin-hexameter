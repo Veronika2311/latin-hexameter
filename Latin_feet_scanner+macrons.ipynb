{
 "cells": [
  {
   "cell_type": "markdown",
   "metadata": {},
   "source": [
    "# Деление на стопы и поиск пробелов"
   ]
  },
  {
   "cell_type": "code",
   "execution_count": null,
   "metadata": {},
   "outputs": [],
   "source": [
    "import os\n",
    "import sqlite3\n",
    "from cltk.prosody.latin.hexameter_scanner import HexameterScanner\n",
    "from cltk.prosody.latin.scansion_formatter import ScansionFormatter\n",
    "scanner = HexameterScanner()"
   ]
  },
  {
   "cell_type": "code",
   "execution_count": null,
   "metadata": {},
   "outputs": [],
   "source": [
    "def givefiles(path):\n",
    "    for d, dirs, files in os.walk(path):\n",
    "        return files"
   ]
  },
  {
   "cell_type": "code",
   "execution_count": null,
   "metadata": {},
   "outputs": [],
   "source": [
    "def readfiles(path, file):\n",
    "    file = os.path.join(path, file)\n",
    "    with open(file, 'r', encoding='utf-8') as f:\n",
    "        text = f.read().split('\\n')\n",
    "        return text"
   ]
  },
  {
   "cell_type": "code",
   "execution_count": null,
   "metadata": {},
   "outputs": [],
   "source": [
    "def delmacrons(word):\n",
    "    word = word.replace('ā','a')    \n",
    "    word = word.replace('ī','i')\n",
    "    word = word.replace('ū','u') \n",
    "    word = word.replace('ē','e') \n",
    "    word = word.replace('ō','o')\n",
    "    word = word.replace('w','u')\n",
    "    word = word.replace('j','i')\n",
    "    return word"
   ]
  },
  {
   "cell_type": "code",
   "execution_count": null,
   "metadata": {},
   "outputs": [],
   "source": [
    "def schemesyllabs(scheme): #счёт слогов для схемы из первого способа, шесть букв в границы слогов\n",
    "    borders = []\n",
    "    countsyl = 0\n",
    "    for i in scheme:\n",
    "        if i == 'D':\n",
    "            countsyl += 3\n",
    "            borders.append(countsyl)\n",
    "        elif i == 'S' or i == 'T':\n",
    "            countsyl += 2\n",
    "            borders.append(countsyl)\n",
    "    return borders[:-1]"
   ]
  },
  {
   "cell_type": "code",
   "execution_count": null,
   "metadata": {},
   "outputs": [],
   "source": [
    "def caesur(wordborders, feetborders, spaces):\n",
    "    caesurus = []\n",
    "    for i in wordborders:\n",
    "        if i == feetborders[0] + 1:\n",
    "            caesurus.append('трёхполовинная')\n",
    "        elif i == feetborders[1] + 1:\n",
    "            caesurus.append('пятиполовинная')\n",
    "        elif i == feetborders[2] + 1:\n",
    "            caesurus.append('семиполовинная')\n",
    "        elif i == feetborders[3]:\n",
    "            caesurus.append('буколическая')\n",
    "\n",
    "        elif len(wordborders) != len(spaces.split(' ')) - 1:\n",
    "            caesurus = [\"Разделы\"] # не равны пробелам\n",
    "            \n",
    "    return caesurus"
   ]
  },
  {
   "cell_type": "code",
   "execution_count": null,
   "metadata": {},
   "outputs": [],
   "source": [
    "def scanfeet(text, letscheme=''): \n",
    "    if not text.startswith('#'):\n",
    "        listscan = list(scanner.scan(text.strip(' ')))\n",
    "        listscan[1] = listscan[1].replace(' ','')\n",
    "        feet = listscan[1].replace(' ','')\n",
    "\n",
    "        scheme = ScansionFormatter().hexameter(listscan[1])\n",
    "        if not '|' in scheme:\n",
    "            if scheme.endswith('-U'):\n",
    "                scheme = scheme[:-1] + '-'\n",
    "                scheme = ScansionFormatter().hexameter(scheme)\n",
    "\n",
    "        #print(scheme)\n",
    "        feetborders = []\n",
    "        feet = 0\n",
    "        for i in scheme:\n",
    "            if i == '|':\n",
    "                feetborders.append(feet)\n",
    "            else:\n",
    "                feet += 1\n",
    "\n",
    "        wordborders = []      \n",
    "        sylstr = ''\n",
    "        if listscan[5] != '':\n",
    "            words = listscan[5]\n",
    "        else:\n",
    "            words = listscan[0]\n",
    "\n",
    "        words = delmacrons(words)\n",
    "        relist = delmacrons(listscan[7])\n",
    "        syllabs = relist.split(', ')\n",
    "\n",
    "        for number, syl in enumerate(syllabs):\n",
    "            sylstr = sylstr + syl\n",
    "\n",
    "            if words.startswith(sylstr) == False:\n",
    "                #print(sylstr, words)\n",
    "                wordborders.append(number)\n",
    "                words = words.split(\" \", 1)[-1]\n",
    "                sylstr = syl\n",
    "\n",
    "          \n",
    "        #print(wordborders)\n",
    "        #print(feetborders)\n",
    "        if listscan[3] == True:            \n",
    "            caesurus = caesur(wordborders, feetborders, listscan[0])\n",
    "        else:\n",
    "            caesurus = [\"ошибка\"]\n",
    "        \n",
    "        if letscheme:\n",
    "            feetbordersM = schemesyllabs(letscheme)\n",
    "            caesurusM = caesur(wordborders, feetbordersM, listscan[0])\n",
    "        else:\n",
    "            feetbordersM = ''\n",
    "            caesurusM = ''            \n",
    "        \n",
    "    else:\n",
    "        listscan = [text, '', '', '', '', '', '', '']  \n",
    "        scheme = ''\n",
    "        feetborders = ''\n",
    "        wordborders = ''\n",
    "        caesurus = '#'\n",
    "        feetbordersM = ''\n",
    "        caesurusM = ''\n",
    "        \n",
    "    if caesurus == caesurusM:\n",
    "        err = 1\n",
    "    elif caesurusM == '' and (caesurus == [\"ошибка\"] or caesurus == [\"Разделы\"]):\n",
    "        err = 0\n",
    "    elif caesurusM != '' and (caesurus == [\"ошибка\"] or caesurus == [\"Разделы\"]):\n",
    "        err = 'alatius'\n",
    "    elif caesurusM == '' and (caesurus != [\"ошибка\"] and caesurus != [\"Разделы\"]):\n",
    "        err = 'cltk'\n",
    "    else:\n",
    "        err = 2\n",
    "    \n",
    "    if listscan[4]:\n",
    "        if feetbordersM:\n",
    "            if feetbordersM[-1] + 2 == listscan[4]:\n",
    "                syl = 1\n",
    "            else:\n",
    "                syl = 0\n",
    "        else:\n",
    "            syl = 2\n",
    "    else:\n",
    "        syl = 2\n",
    "\n",
    "    return(listscan, scheme, feetborders, wordborders, caesurus, feetbordersM, caesurusM, err, syl)"
   ]
  },
  {
   "cell_type": "code",
   "execution_count": null,
   "metadata": {},
   "outputs": [],
   "source": [
    "#ScansionFormatter().hexameter('-----------U')"
   ]
  },
  {
   "cell_type": "code",
   "execution_count": null,
   "metadata": {
    "scrolled": true
   },
   "outputs": [],
   "source": [
    "#scanfeet('ferre pedēs haesit cōnāta āvertere vultūs')"
   ]
  },
  {
   "cell_type": "code",
   "execution_count": null,
   "metadata": {},
   "outputs": [],
   "source": [
    "#scanfeet('impulerit. Tantaenet animis caelestibus irae?', 'DDDSSS')"
   ]
  },
  {
   "cell_type": "code",
   "execution_count": null,
   "metadata": {},
   "outputs": [],
   "source": [
    "#'quīd fremat īmperiūm quīd raucōs tōrqueat aestūs'.startswith('quid')"
   ]
  },
  {
   "cell_type": "code",
   "execution_count": null,
   "metadata": {
    "scrolled": false
   },
   "outputs": [],
   "source": [
    "#print(scanfeet('quid fremat imperium quid raucōs torqueat aestūs '))"
   ]
  },
  {
   "cell_type": "code",
   "execution_count": null,
   "metadata": {},
   "outputs": [],
   "source": [
    "conn = sqlite3.connect('latin_scan22.db')\n",
    "cur = conn.cursor()\n",
    "cur.execute(\"\"\"\n",
    "CREATE TABLE IF NOT EXISTS cltk_scan \n",
    "(id INTEGER PRIMARY KEY AUTOINCREMENT, file text, original text, scansion text, meter text, \n",
    "valid text, syllable_count int, accented text, scansion_notes text, syllables text, \n",
    "scheme text, feetborders text, wordborders text, caesurus text, feetbordersM text, caesurusM text, \n",
    "error text, countsyl text)\n",
    "\"\"\")\n",
    "\n",
    "conn.commit()\n",
    "conn.close()"
   ]
  },
  {
   "cell_type": "code",
   "execution_count": null,
   "metadata": {},
   "outputs": [],
   "source": [
    "def basefirst(path, filename):\n",
    "    text = readfiles(path, filename)\n",
    "    steps = text[-1].split('FEETSTART')[1].split('FEETEND')[0].split(';')\n",
    "    for i, verse in enumerate(text[:-1]):\n",
    "        allverse = scanfeet(verse, steps[i])\n",
    "        tobase = []\n",
    "        tobase.append(filename)\n",
    "        tobase.extend(allverse[0])\n",
    "        tobase.append(allverse[1])\n",
    "        tobase.append(str(allverse[2]))\n",
    "        tobase.append(str(allverse[3]))\n",
    "        tobase.append(str(allverse[4]))\n",
    "        tobase.append(str(allverse[5]))\n",
    "        tobase.append(str(allverse[6]))\n",
    "        tobase.append(str(allverse[7]))\n",
    "        tobase.append(str(allverse[8]))\n",
    "        conn = sqlite3.connect('latin_scan22.db')\n",
    "        cur = conn.cursor()      \n",
    "        cur.execute('INSERT INTO cltk_scan VALUES (null, ?, ?, ?, ?, ?, ?, ?, ?, ?, ?, ?, ?, ?, ?, ?, ?, ?)', tobase)\n",
    "        conn.commit()\n",
    "        conn.close()"
   ]
  },
  {
   "cell_type": "code",
   "execution_count": null,
   "metadata": {},
   "outputs": [],
   "source": [
    "for i in givefiles('C:/Users/M/Desktop/latmacr/'):\n",
    "    print(i)\n",
    "    basefirst('C:/Users/M/Desktop/latmacr/', i)"
   ]
  },
  {
   "cell_type": "code",
   "execution_count": null,
   "metadata": {},
   "outputs": [],
   "source": []
  }
 ],
 "metadata": {
  "kernelspec": {
   "display_name": "Python 3",
   "language": "python",
   "name": "python3"
  },
  "language_info": {
   "codemirror_mode": {
    "name": "ipython",
    "version": 3
   },
   "file_extension": ".py",
   "mimetype": "text/x-python",
   "name": "python",
   "nbconvert_exporter": "python",
   "pygments_lexer": "ipython3",
   "version": "3.7.4"
  }
 },
 "nbformat": 4,
 "nbformat_minor": 2
}
