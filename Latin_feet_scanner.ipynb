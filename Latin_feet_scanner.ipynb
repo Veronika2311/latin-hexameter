{
 "cells": [
  {
   "cell_type": "markdown",
   "metadata": {},
   "source": [
    "# Деление на стопы и поиск пробелов"
   ]
  },
  {
   "cell_type": "code",
   "execution_count": null,
   "metadata": {},
   "outputs": [],
   "source": [
    "import os\n",
    "import sqlite3\n",
    "from cltk.prosody.latin.hexameter_scanner import HexameterScanner\n",
    "from cltk.prosody.latin.scansion_formatter import ScansionFormatter\n",
    "scanner = HexameterScanner()"
   ]
  },
  {
   "cell_type": "code",
   "execution_count": null,
   "metadata": {},
   "outputs": [],
   "source": [
    "def givefiles(path):\n",
    "    for d, dirs, files in os.walk(path):\n",
    "        return files"
   ]
  },
  {
   "cell_type": "code",
   "execution_count": null,
   "metadata": {},
   "outputs": [],
   "source": [
    "def readfiles(path, file):\n",
    "    file = os.path.join(path, file)\n",
    "    with open(file, 'r', encoding='utf-8') as f:\n",
    "        text = f.read().split('\\n')\n",
    "        return text"
   ]
  },
  {
   "cell_type": "code",
   "execution_count": null,
   "metadata": {},
   "outputs": [],
   "source": [
    "def scanfeet(text): \n",
    "    if not text.startswith('#'):\n",
    "        listscan = list(scanner.scan(text.strip(' ')))\n",
    "        listscan[1] = listscan[1].replace(' ','')\n",
    "        feet = listscan[1].replace(' ','')\n",
    "\n",
    "        scheme = ScansionFormatter().hexameter(listscan[1])\n",
    "        if not '|' in scheme:\n",
    "            if scheme.endswith('-U'):\n",
    "                scheme = scheme[:-1] + '-'\n",
    "                scheme = ScansionFormatter().hexameter(scheme)\n",
    "\n",
    "        #print(scheme)\n",
    "        feetborders = []\n",
    "        feet = 0\n",
    "        for i in scheme:\n",
    "            if i == '|':\n",
    "                feetborders.append(feet)\n",
    "            else:\n",
    "                feet += 1\n",
    "\n",
    "        wordborders = []      \n",
    "        sylstr = ''\n",
    "        if listscan[5] != '':\n",
    "            words = listscan[5]\n",
    "        else:\n",
    "            words = listscan[5]        \n",
    "        syllabs = listscan[7].split(', ')\n",
    "\n",
    "        for number, syl in enumerate(syllabs):\n",
    "            sylstr = sylstr + syl\n",
    "\n",
    "            if words.startswith(sylstr) == False:\n",
    "                #print(sylstr, words)\n",
    "                wordborders.append(number)\n",
    "                words = words.split(\" \", 1)[-1]\n",
    "                sylstr = syl\n",
    "\n",
    "        #print(wordborders)\n",
    "        #print(feetborders)\n",
    "        if listscan[3] == True:\n",
    "            caesurus = []\n",
    "            for i in wordborders:\n",
    "                if i == feetborders[0] + 1:\n",
    "                    caesurus.append('трёхполовинная')\n",
    "                elif i == feetborders[1] + 1:\n",
    "                    caesurus.append('пятиполовинная')\n",
    "                elif i == feetborders[2] + 1:\n",
    "                    caesurus.append('семиполовинная')\n",
    "                elif i == feetborders[3]:\n",
    "                    caesurus.append('буколическая')\n",
    "\n",
    "                elif len(wordborders) != len(listscan[0].split(' ')) - 1:\n",
    "                    caesurus = [\"Разделы не равны пробелам\"]\n",
    "\n",
    "        else:\n",
    "            caesurus = [\"ошибка\"]\n",
    "            \n",
    "    else:\n",
    "        listscan = [text, '', '', '', '', '', '', '']  \n",
    "        scheme = ''\n",
    "        feetborders = ''\n",
    "        wordborders = ''\n",
    "        caesurus = '#'\n",
    "\n",
    "    return(listscan, scheme, feetborders, wordborders, caesurus)"
   ]
  },
  {
   "cell_type": "code",
   "execution_count": null,
   "metadata": {},
   "outputs": [],
   "source": [
    "ScansionFormatter().hexameter('-----------U')"
   ]
  },
  {
   "cell_type": "code",
   "execution_count": null,
   "metadata": {},
   "outputs": [],
   "source": [
    "'quīd fremat īmperiūm quīd raucōs tōrqueat aestūs'.startswith('quid')"
   ]
  },
  {
   "cell_type": "code",
   "execution_count": null,
   "metadata": {
    "scrolled": false
   },
   "outputs": [],
   "source": [
    "print(scanfeet('quid fremat imperium quid raucōs torqueat aestūs '))"
   ]
  },
  {
   "cell_type": "code",
   "execution_count": null,
   "metadata": {},
   "outputs": [],
   "source": [
    "conn = sqlite3.connect('latin_scan4.db')\n",
    "cur = conn.cursor()\n",
    "cur.execute(\"\"\"\n",
    "CREATE TABLE IF NOT EXISTS cltk_scan \n",
    "(id INTEGER PRIMARY KEY AUTOINCREMENT, file text, original text, scansion text, meter text, \n",
    "valid text, syllable_count int, accented text, scansion_notes text, syllables text, \n",
    "scheme text, feetborders text, wordborders text, caesurus text)\n",
    "\"\"\")\n",
    "\n",
    "conn.commit()\n",
    "conn.close()"
   ]
  },
  {
   "cell_type": "code",
   "execution_count": null,
   "metadata": {},
   "outputs": [],
   "source": [
    "def basefirst(path, filename):\n",
    "    text = readfiles(path, filename)[3414:3415]\n",
    "    for i in text:\n",
    "        all = scanfeet(i)\n",
    "        tobase = []\n",
    "        tobase.append(filename)\n",
    "        tobase.extend(all[0])\n",
    "        tobase.append(all[1])\n",
    "        tobase.append(str(all[2]))\n",
    "        tobase.append(str(all[3]))\n",
    "        tobase.append(str(all[4]))\n",
    "        conn = sqlite3.connect('latin_scan4.db')\n",
    "        cur = conn.cursor()      \n",
    "        cur.execute('INSERT INTO cltk_scan VALUES (null, ?, ?, ?, ?, ?, ?, ?, ?, ?, ?, ?, ?, ?)', tobase)\n",
    "        conn.commit()\n",
    "        conn.close()"
   ]
  },
  {
   "cell_type": "code",
   "execution_count": null,
   "metadata": {
    "scrolled": false
   },
   "outputs": [],
   "source": [
    "for i in givefiles('C:/Users/M/Desktop/latin/'):\n",
    "    print(i)\n",
    "    basefirst('C:/Users/M/Desktop/latin/', i)"
   ]
  },
  {
   "cell_type": "code",
   "execution_count": null,
   "metadata": {},
   "outputs": [],
   "source": []
  }
 ],
 "metadata": {
  "kernelspec": {
   "display_name": "Python 3",
   "language": "python",
   "name": "python3"
  },
  "language_info": {
   "codemirror_mode": {
    "name": "ipython",
    "version": 3
   },
   "file_extension": ".py",
   "mimetype": "text/x-python",
   "name": "python",
   "nbconvert_exporter": "python",
   "pygments_lexer": "ipython3",
   "version": "3.7.4"
  }
 },
 "nbformat": 4,
 "nbformat_minor": 2
}
