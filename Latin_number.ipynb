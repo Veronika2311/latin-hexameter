{
 "cells": [
  {
   "cell_type": "markdown",
   "metadata": {},
   "source": [
    "### Счёт слогов и стоп согласно правилам"
   ]
  },
  {
   "cell_type": "code",
   "execution_count": null,
   "metadata": {},
   "outputs": [],
   "source": [
    "def countvowels(verse):\n",
    "    vowels = 'aāiīuūeēoō'\n",
    "    #verse = 'Aetna mihī ruptīque cavīs fornācibus ignēs'\n",
    "    verse_lower = verse.lower()\n",
    "    vowels_verse = []\n",
    "    borders = []\n",
    "    print(verse_lower)\n",
    "    for i, symbol in enumerate(verse_lower):\n",
    "        if symbol in vowels:\n",
    "            if symbol == 'u':\n",
    "                if i and i+1 < len(verse):\n",
    "                    if verse_lower[i-1] == 'q' and verse_lower[i+1] in vowels:\n",
    "                        continue\n",
    "                    elif verse_lower[i-1] == 'g' and  verse_lower[i-2] == 'n' and verse_lower[i+1] in vowels:\n",
    "                        continue\n",
    "                    else:\n",
    "                          vowels_verse.append(symbol)\n",
    "                    \n",
    "                else:\n",
    "                    vowels_verse.append(symbol)\n",
    "            elif symbol == 'a':\n",
    "                if i+1 < len(verse):\n",
    "                    if verse_lower[i+1] == 'e':\n",
    "                        continue\n",
    "                    elif verse_lower[i+1] == 'u':\n",
    "                        continue\n",
    "                    else:\n",
    "                        vowels_verse.append(symbol)\n",
    "                    \n",
    "                    # здесь так же описываются дифтонг \"au\"\n",
    "                else:\n",
    "                    vowels_verse.append(symbol)\n",
    "\n",
    "            elif symbol == 'e':\n",
    "\n",
    "                if i+1 < len(verse):\n",
    "                    if verse_lower[i+1] == 'u':\n",
    "                        continue\n",
    "                    \n",
    "            # сначала случаи, когда \"e\" начальный в дифтонге, а потом самое интересное:\n",
    "                if i:\n",
    "                    if verse_lower[i-1] == 'a':\n",
    "                        vowels_verse.append('a{}'.format(symbol))\n",
    "                    elif verse_lower[i-1] == 'o':\n",
    "                        vowels_verse.append('a{}'.format(symbol))# и всё такое прочее\n",
    "                    else:\n",
    "                        vowels_verse.append(symbol)\n",
    "                else:\n",
    "                    vowels_verse.append(symbol)\n",
    "\n",
    "                        \n",
    "                    \n",
    "            else:\n",
    "                vowels_verse.append(symbol)\n",
    "        elif symbol == ' ':\n",
    "            borders.append(len(vowels_verse)) # заодно узнаем после какого слога у нас словораздел!\n",
    "                # ну или чтобы считать с нуля:\n",
    "            #borders.append(len(vowels_verse)-1)\n",
    "\n",
    "    # Чем этот способ хорош? Своей интуитивностью и предсказуемостью. Примерно так же человек читает латинский текст. \n",
    "    # Трудно запутаться. Правил ограниченное число и все они шаблонно вносятся в этот код.\n",
    "\n",
    "    print(vowels_verse) # ['ae', 'a', 'i', 'ī', 'u', 'ī', 'e', 'a', 'ī', 'o', 'ā', 'i', 'u', 'i', 'ē']\n",
    "    print(borders) # для удобства считаем сразу с нуля: [1, 3, 6, 8, 12]\n",
    "    feet_borders = []\n",
    "    feet_syl = 1 # число слогов в стопе считаем от единицы, что, может быть, непоследовательно, но зато понятно\n",
    "    verse_tail = verse_lower\n",
    "    for i, vow in enumerate(vowels_verse):\n",
    "        verse_tail = verse_tail.split(vow, 1)[-1]\n",
    "        #print(verse_tail)\n",
    "        if len(verse_tail) > 1:\n",
    "            if verse_tail[0] not in vowels and verse_tail[1] not in vowels:\n",
    "                hard = True\n",
    "            else:\n",
    "                hard = False\n",
    "        if len(vow) == 2 or vow in 'āīūēō' or hard == True:\n",
    "            if feet_syl == 1:\n",
    "                feet_syl += 1\n",
    "            elif feet_syl == 2:\n",
    "                feet_borders.append(i)\n",
    "                feet_syl = 1\n",
    "            elif feet_syl == 3:\n",
    "                feet_borders.append(i-1)\n",
    "                feet_syl = 2\n",
    "        else:\n",
    "            if feet_syl == 3:\n",
    "                feet_borders.append(i)\n",
    "                feet_syl = 1\n",
    "            elif feet_syl == 2:\n",
    "                feet_syl += 1\n",
    "    \n",
    "    print(feet_borders)"
   ]
  },
  {
   "cell_type": "code",
   "execution_count": null,
   "metadata": {},
   "outputs": [],
   "source": [
    "#verse = 'Aetna mihī ruptīque cavīs fornācibus ignēs'\n",
    "verse = 'Aetna mihī ruptīque cavīs fornācibus ignēs'\n",
    "countvowels(verse)"
   ]
  },
  {
   "cell_type": "code",
   "execution_count": null,
   "metadata": {},
   "outputs": [],
   "source": [
    "def readfiles(file):\n",
    "    with open(file, 'r', encoding='utf-8') as f:\n",
    "        text = f.read().split('\\n')\n",
    "        return text"
   ]
  },
  {
   "cell_type": "code",
   "execution_count": null,
   "metadata": {
    "scrolled": false
   },
   "outputs": [],
   "source": [
    "for file in ['11.txt', '22.txt']:\n",
    "    text = readfiles(file)\n",
    "    for verse in text:\n",
    "        verse = verse.strip(\" \")\n",
    "        print(countvowels(verse))"
   ]
  }
 ],
 "metadata": {
  "kernelspec": {
   "display_name": "Python 3",
   "language": "python",
   "name": "python3"
  },
  "language_info": {
   "codemirror_mode": {
    "name": "ipython",
    "version": 3
   },
   "file_extension": ".py",
   "mimetype": "text/x-python",
   "name": "python",
   "nbconvert_exporter": "python",
   "pygments_lexer": "ipython3",
   "version": "3.7.4"
  }
 },
 "nbformat": 4,
 "nbformat_minor": 2
}
