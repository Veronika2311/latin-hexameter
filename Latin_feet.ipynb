{
 "cells": [
  {
   "cell_type": "markdown",
   "metadata": {},
   "source": [
    "# Деление на стопы и поиск пробелов"
   ]
  },
  {
   "cell_type": "code",
   "execution_count": 1,
   "metadata": {},
   "outputs": [],
   "source": [
    "import os\n",
    "import re\n",
    "import copy"
   ]
  },
  {
   "cell_type": "code",
   "execution_count": 2,
   "metadata": {},
   "outputs": [],
   "source": [
    "def givefiles(path):\n",
    "    for d, dirs, files in os.walk(path):\n",
    "        return files"
   ]
  },
  {
   "cell_type": "code",
   "execution_count": 3,
   "metadata": {},
   "outputs": [],
   "source": [
    "def readfiles(path, file):\n",
    "    file = os.path.join(path, file)\n",
    "    with open(file, 'r', encoding='utf-8') as f:\n",
    "        text = f.read()\n",
    "        return text"
   ]
  },
  {
   "cell_type": "code",
   "execution_count": 4,
   "metadata": {},
   "outputs": [],
   "source": [
    "def diftrepl(st): #замена дифтонгов\n",
    "    verserepl = copy.copy(st)\n",
    "           \n",
    "    verserepl = re.sub('ae', 'ѣ', verserepl)\n",
    "    verserepl = re.sub('Ae', 'Ѣ', verserepl)\n",
    "    verserepl = re.sub('oe', 'ө', verserepl)\n",
    "    verserepl = re.sub('Oe', 'Ө', verserepl)\n",
    "    verserepl = re.sub('eu', 'ә', verserepl)\n",
    "    verserepl = re.sub('Eu', 'Ә', verserepl)\n",
    "    verserepl = re.sub('au', 'ү', verserepl)\n",
    "    verserepl = re.sub('Au', 'Ү', verserepl)\n",
    "    verserepl = re.sub('qu', 'qw', verserepl)\n",
    "    verserepl = re.sub('Qu', 'Qw', verserepl)    \n",
    "    \n",
    "    return verserepl"
   ]
  },
  {
   "cell_type": "code",
   "execution_count": 5,
   "metadata": {},
   "outputs": [],
   "source": [
    "def caesurus(verse, feet):\n",
    "    \n",
    "    #print(verse)\n",
    "    splitvoices = re.split('a|e|u|y|o|i|ā|ē|ū|ȳ|ō|ī|ѣ|ө|ә|ү|A|E|U|Y|O|I|Ā|Ē|Ū|Ȳ|Ō|Ī|Ѣ|Ө|Ә|Ү', verse)\n",
    "    #print(splitvoices)\n",
    "    spaceafters =  []\n",
    "    for i, el in enumerate(splitvoices):\n",
    "        if ' ' in el:\n",
    "            spaceafters.append(i - 1)\n",
    "    #print(spaceafters)\n",
    "    \n",
    "    \n",
    "    #print(feet)\n",
    "    allscheme = []        \n",
    "    for i, letter in enumerate(list(copy.copy(feet))):\n",
    "        if letter == 'D':\n",
    "            scheme = ['a', 'b', 'c']\n",
    "        elif letter == 'S':\n",
    "            scheme = ['a', 'c']\n",
    "        elif letter == 'T':\n",
    "            scheme = ['a', 'b']\n",
    "        else:\n",
    "            print('Help! ', letter)\n",
    "        finscheme = []\n",
    "        for el in scheme:\n",
    "            el = str(i + 1) + el\n",
    "            finscheme.append(el)\n",
    "        allscheme.extend(finscheme)       \n",
    "    #print(allscheme)\n",
    "    \n",
    "    if len(allscheme) == len(splitvoices) - 1:\n",
    "        spacesheme = []\n",
    "        for num in spaceafters:\n",
    "            spacesheme.append(allscheme[num])\n",
    "    else:\n",
    "        #print(len(allscheme))\n",
    "        #print(len(splitvoices))\n",
    "        spacesheme = 'ОШИБКА'\n",
    "    \n",
    "    return spacesheme"
   ]
  },
  {
   "cell_type": "code",
   "execution_count": 6,
   "metadata": {},
   "outputs": [],
   "source": [
    "def basefirst(path, filename, number):\n",
    "    allinfile = {}\n",
    "    text = readfiles(path, filename).split('\\n')\n",
    "    #print(text)\n",
    "    steps = text[-1].split('FEETSTART')[1].split('FEETEND')[0].split(';')\n",
    "    #print(steps)\n",
    "    for i, st in enumerate(text[:-1]):\n",
    "        #print(st)\n",
    "        oneverse = {}\n",
    "        #oneverse['id'] = number + 1\n",
    "        #number = number + 1\n",
    "        oneverse['verse'] = st\n",
    "        oneverse['feet'] = steps[i]\n",
    "        oneverse['file'] = filename\n",
    "        oneverse['diftrepl'] = diftrepl(st) #возвращает строку с замененными дифтонгами\n",
    "        #print(diftrepl(st))\n",
    "        oneverse['caesurs'] = caesurus(oneverse['diftrepl'], oneverse['feet']) #дв список пробелов\n",
    "  \n",
    "        #print(caesurus(oneverse['diftrepl'], oneverse['feet']))\n",
    "        #print(oneverse)\n",
    "        #print('aaaaaaaaaa')\n",
    "        allinfile[number] = oneverse\n",
    "        number = number + 1\n",
    "    print(allinfile)\n",
    "    return allinfile, number"
   ]
  },
  {
   "cell_type": "code",
   "execution_count": 7,
   "metadata": {
    "scrolled": false
   },
   "outputs": [
    {
     "name": "stdout",
     "output_type": "stream",
     "text": [
      "{0: {'verse': 'Aetna mihī ruptīque cavīs fornācibus ignēs ', 'feet': 'DSDSDS', 'file': '1.txt', 'diftrepl': 'Ѣtna mihī ruptīqwe cavīs fornācibus ignēs ', 'caesurs': ['1b', '2a', '3b', '4a', '5c', '6c']}, 1: {'verse': 'et quae tam fortēs volvant incendia causae ', 'feet': 'SSSSDS', 'file': '1.txt', 'diftrepl': 'et qwѣ tam fortēs volvant incendia cүsѣ ', 'caesurs': ['1a', '1c', '2a', '3a', '4a', '5c', '6c']}, 2: {'verse': 'quid fremat imperium quid raucōs torqueat aestūs ', 'feet': 'DDSSDS', 'file': '1.txt', 'diftrepl': 'qwid fremat imperium qwid rүcōs torqweat ѣstūs ', 'caesurs': ['1a', '1c', '3a', '3c', '4c', '5c', '6c']}, 3: {'verse': 'carmen erit. dexter veniās mihi carminis auctor ', 'feet': 'DSDDDT', 'file': '1.txt', 'diftrepl': 'carmen erit. dexter veniās mihi carminis үctor ', 'caesurs': ['1b', '2a', '3a', '4a', '4c', '5c', '6b']}, 4: {'verse': 'seu tē Cynthōs habet seu Dēlō grātior Hyla ', 'feet': '', 'file': '1.txt', 'diftrepl': 'sә tē Cynthōs habet sә Dēlō grātior Hyla ', 'caesurs': 'ОШИБКА'}, 5: {'verse': 'seu tibi Dōdōnē potior tēcumque faventēs ', 'feet': 'DSDSDS', 'file': '1.txt', 'diftrepl': 'sә tibi Dōdōnē potior tēcumqwe faventēs ', 'caesurs': ['1a', '1c', '3a', '4a', '5b', '6c']}, 6: {'verse': 'in nova Pīeriō properent ā fonte sorōrēs ', 'feet': 'DDDSDS', 'file': '1.txt', 'diftrepl': 'in nova Pīeriō properent ā fonte sorōrēs ', 'caesurs': ['1a', '1c', '3a', '4a', '4c', '5b', '6c']}, 7: {'verse': 'vōta: per īnsolitum Phoebō duce tūtius ītur. ', 'feet': 'DDSDDT', 'file': '1.txt', 'diftrepl': 'vōta: per īnsolitum Phөbō duce tūtius ītur. ', 'caesurs': ['1b', '1c', '3a', '4a', '4c', '5c', '6b']}, 8: {'verse': 'aurea sēcūrī quis nescit saecula rēgis ', 'feet': 'DSSSDT', 'file': '1.txt', 'diftrepl': 'үrea sēcūrī qwis nescit sѣcula rēgis ', 'caesurs': ['1c', '3a', '3c', '4c', '5c', '6b']}, 9: {'verse': 'cum domitīs nēmō Cererem jactāret in arvīs ', 'feet': 'DSDSDS', 'file': '1.txt', 'diftrepl': 'cum domitīs nēmō Cererem jactāret in arvīs ', 'caesurs': ['1a', '2a', '3a', '4a', '5b', '5c', '6c']}, 10: {'verse': 'ventūrīsque malās prohibēret frūctibus herbās ', 'feet': 'SDDSDS', 'file': '1.txt', 'diftrepl': 'ventūrīsqwe malās prohibēret frūctibus herbās ', 'caesurs': ['2b', '3a', '4c', '5c', '6c']}, 11: {'verse': 'annua sed saturae complērent horrea messēs ', 'feet': 'DDSSDS', 'file': '1.txt', 'diftrepl': 'annua sed saturѣ complērent horrea messēs ', 'caesurs': ['1c', '2a', '3a', '4c', '5c', '6c']}, 12: {'verse': 'ipse suō flueret Bacchus pede mellaque lentīs ', 'feet': 'DDSDDS', 'file': '1.txt', 'diftrepl': 'ipse suō flueret Bacchus pede mellaqwe lentīs ', 'caesurs': ['1b', '2a', '3a', '4a', '4c', '5c', '6c']}, 13: {'verse': 'pendērent foliīs et pinguī Pallas olīvā ', 'feet': 'SDSSDS', 'file': '1.txt', 'diftrepl': 'pendērent foliīs et pinguī Pallas olīvā ', 'caesurs': 'ОШИБКА'}, 14: {'verse': 'sēcrētōs amnīs ageret tum grātia rūris? ', 'feet': 'SSDSDT', 'file': '1.txt', 'diftrepl': 'sēcrētōs amnīs ageret tum grātia rūris? ', 'caesurs': ['2a', '3a', '4a', '4c', '5c', '6b']}, 15: {'verse': 'nōn cessit cuīquam melius sua tempora nōsse. ', 'feet': 'SSDDDT', 'file': '1.txt', 'diftrepl': 'nōn cessit cuīqwam melius sua tempora nōsse. ', 'caesurs': 'ОШИБКА'}, 16: {'verse': 'ultima quis tacuit juvenum certāmina Colchōs? ', 'feet': 'DDDSDS', 'file': '1.txt', 'diftrepl': 'ultima qwis tacuit juvenum certāmina Colchōs? ', 'caesurs': ['1c', '2a', '3a', '4a', '5c', '6c']}}\n",
      "{0: {'verse': '#SATURA Ī ', 'feet': '', 'file': '2.txt', 'diftrepl': '#SATURA Ī ', 'caesurs': 'ОШИБКА'}, 1: {'verse': 'Semper ego audītor tantum? numquamne repōnam ', 'feet': 'DSSSDS', 'file': '2.txt', 'diftrepl': 'Semper ego үdītor tantum? numqwamne repōnam ', 'caesurs': 'ОШИБКА'}, 2: {'verse': 'vexātus totiēns raucī Thēsēide Cordī? ', 'feet': 'SDSSDS', 'file': '2.txt', 'diftrepl': 'vexātus totiēns rүcī Thēsēide Cordī? ', 'caesurs': ['2a', '3a', '4a', '5c', '6c']}, 3: {'verse': 'inpūne ergō mihi recitāverit ille togātās ', 'feet': 'SSDDDS', 'file': '2.txt', 'diftrepl': 'inpūne ergō mihi recitāverit ille togātās ', 'caesurs': 'ОШИБКА'}, 4: {'verse': 'hīc elegōs? inpūne diem cōnsūmpserit ingēns ', 'feet': 'DSDSDS', 'file': '2.txt', 'diftrepl': 'hīc elegōs? inpūne diem cōnsūmpserit ingēns ', 'caesurs': ['1a', '2a', '3b', '4a', '5c', '6c']}, 5: {'verse': 'Tēlephus aut summī plēnā jam margine librī ', 'feet': 'DSSSDS', 'file': '2.txt', 'diftrepl': 'Tēlephus үt summī plēnā jam margine librī ', 'caesurs': ['1c', '2a', '3a', '4a', '4c', '5c', '6c']}, 6: {'verse': 'scrīptus et in tergō necdum fīnītus Orestēs? ', 'feet': 'DSSSDS', 'file': '2.txt', 'diftrepl': 'scrīptus et in tergō necdum fīnītus Orestēs? ', 'caesurs': ['1b', '1c', '2a', '3a', '4a', '5b', '6c']}, 7: {'verse': 'nōta magis nūllī domus est sua quam mihi lūcus ', 'feet': 'DSDDDT', 'file': '2.txt', 'diftrepl': 'nōta magis nūllī domus est sua qwam mihi lūcus ', 'caesurs': ['1b', '2a', '3a', '3c', '4a', '4c', '5a', '5c', '6b']}, 8: {'verse': 'Mārtis et Aeoliīs vīcīnum rūpibus antrum ', 'feet': 'DDSSDS', 'file': '2.txt', 'diftrepl': 'Mārtis et Ѣoliīs vīcīnum rūpibus antrum ', 'caesurs': ['1b', '1c', '3a', '4c', '5c', '6c']}, 9: {'verse': 'Vulcānī; quid agant ventī quās torqueat umbrās ', 'feet': 'SDSSDS', 'file': '2.txt', 'diftrepl': 'Vulcānī; qwid agant ventī qwās torqweat umbrās ', 'caesurs': ['2a', '2b', '3a', '4a', '4c', '5c', '6c']}, 10: {'verse': 'Aeacus unde alius fūrtīvae dēvehat aurum ', 'feet': 'DDSSDS', 'file': '2.txt', 'diftrepl': 'Ѣacus unde alius fūrtīvѣ dēvehat үrum ', 'caesurs': 'ОШИБКА'}, 11: {'verse': 'pelliculae quantās jaculētur Mōnychus ornōs ', 'feet': 'DSDSDS', 'file': '2.txt', 'diftrepl': 'pelliculѣ qwantās jaculētur Mōnychus ornōs ', 'caesurs': ['2a', '3a', '4c', '5c', '6c']}, 12: {'verse': 'Frontōnis platanī convolsaque marmorā clāmant ', 'feet': '', 'file': '2.txt', 'diftrepl': 'Frontōnis platanī convolsaqwe marmorā clāmant ', 'caesurs': 'ОШИБКА'}, 13: {'verse': 'semper et adsiduō ruptae lēctōre columnae. ', 'feet': 'DDSSDS', 'file': '2.txt', 'diftrepl': 'semper et adsiduō ruptѣ lēctōre columnѣ. ', 'caesurs': ['1b', '1c', '3a', '4a', '5b', '6c']}, 14: {'verse': 'expectēs eadem ā summō minimōque poētā. ', 'feet': 'SDSDDS', 'file': '2.txt', 'diftrepl': 'expectēs eadem ā summō minimōqwe poētā. ', 'caesurs': 'ОШИБКА'}, 15: {'verse': 'et nōs ergō manum ferulae subdūximus et nōs ', 'feet': '', 'file': '2.txt', 'diftrepl': 'et nōs ergō manum ferulѣ subdūximus et nōs ', 'caesurs': 'ОШИБКА'}, 16: {'verse': 'cōnsilium dedimus Sullae prīvātus ut altum ', 'feet': 'DDSSDS', 'file': '2.txt', 'diftrepl': 'cōnsilium dedimus Sullѣ prīvātus ut altum ', 'caesurs': ['2a', '3a', '4a', '5b', '5c', '6c']}, 17: {'verse': 'dormīret. stulta est clēmentia cum tot ubīque ', 'feet': 'SSSDDT', 'file': '2.txt', 'diftrepl': 'dormīret. stulta est clēmentia cum tot ubīqwe ', 'caesurs': 'ОШИБКА'}, 18: {'verse': 'vātibus occurrās peritūrae parcere chartae. ', 'feet': 'DSDSDS', 'file': '2.txt', 'diftrepl': 'vātibus occurrās peritūrѣ parcere chartѣ. ', 'caesurs': ['1c', '3a', '4c', '5c', '6c']}, 19: {'verse': 'cūr tamen hoc potius libeat dēcurrere campō ', 'feet': 'DDDSDS', 'file': '2.txt', 'diftrepl': 'cūr tamen hoc potius libeat dēcurrere campō ', 'caesurs': ['1a', '1c', '2a', '3a', '4a', '5c', '6c']}, 20: {'verse': 'per quem magnus equōs Auruncae flexit alumnus ', 'feet': 'SDSSDT', 'file': '2.txt', 'diftrepl': 'per qwem magnus eqwōs Үruncѣ flexit alumnus ', 'caesurs': ['1a', '1c', '2b', '3a', '4c', '5b', '6b']}, 21: {'verse': 'sī vacat ac placidī ratiōnem admittitis ēdam. ', 'feet': 'DDDSDS', 'file': '2.txt', 'diftrepl': 'sī vacat ac placidī ratiōnem admittitis ēdam. ', 'caesurs': 'ОШИБКА'}}\n"
     ]
    }
   ],
   "source": [
    "for i in ['1.txt', '2.txt']:\n",
    "    basefirst('C:/Users/M/Desktop/', i, 0)"
   ]
  },
  {
   "cell_type": "code",
   "execution_count": null,
   "metadata": {},
   "outputs": [],
   "source": []
  }
 ],
 "metadata": {
  "kernelspec": {
   "display_name": "Python 3",
   "language": "python",
   "name": "python3"
  },
  "language_info": {
   "codemirror_mode": {
    "name": "ipython",
    "version": 3
   },
   "file_extension": ".py",
   "mimetype": "text/x-python",
   "name": "python",
   "nbconvert_exporter": "python",
   "pygments_lexer": "ipython3",
   "version": "3.7.4"
  }
 },
 "nbformat": 4,
 "nbformat_minor": 2
}
